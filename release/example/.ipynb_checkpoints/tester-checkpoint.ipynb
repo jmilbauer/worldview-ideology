{
 "cells": [
  {
   "cell_type": "code",
   "execution_count": 63,
   "metadata": {},
   "outputs": [
    {
     "name": "stdout",
     "output_type": "stream",
     "text": [
      "The autoreload extension is already loaded. To reload it, use:\n",
      "  %reload_ext autoreload\n"
     ]
    }
   ],
   "source": [
    "%load_ext autoreload\n",
    "%autoreload 1"
   ]
  },
  {
   "cell_type": "code",
   "execution_count": 64,
   "metadata": {},
   "outputs": [],
   "source": [
    "%aimport preprocessing\n",
    "from preprocessing import get_sentences, get_phraser, get_multiphraser, main\n",
    "from gensim.models.word2vec import Text8Corpus\n",
    "\n",
    "import logging\n",
    "logging.basicConfig(level=logging.INFO)"
   ]
  },
  {
   "cell_type": "code",
   "execution_count": 67,
   "metadata": {},
   "outputs": [
    {
     "name": "stderr",
     "output_type": "stream",
     "text": [
      "10000it [00:00, 19942.67it/s]\n",
      "10000it [00:01, 7699.77it/s]\n",
      "10000it [00:01, 6187.77it/s]\n"
     ]
    }
   ],
   "source": [
    "sources = ['politics.txt']\n",
    "targets = ['corpora/sample.prep.txt']\n",
    "main(sources, targets)"
   ]
  },
  {
   "cell_type": "code",
   "execution_count": null,
   "metadata": {},
   "outputs": [],
   "source": []
  }
 ],
 "metadata": {
  "kernelspec": {
   "display_name": "Python3 (emnlp2021)",
   "language": "python",
   "name": "emnlp2021"
  },
  "language_info": {
   "codemirror_mode": {
    "name": "ipython",
    "version": 3
   },
   "file_extension": ".py",
   "mimetype": "text/x-python",
   "name": "python",
   "nbconvert_exporter": "python",
   "pygments_lexer": "ipython3",
   "version": "3.6.13"
  }
 },
 "nbformat": 4,
 "nbformat_minor": 4
}
