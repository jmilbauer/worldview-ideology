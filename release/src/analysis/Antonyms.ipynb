{
 "cells": [
  {
   "cell_type": "code",
   "execution_count": 273,
   "metadata": {},
   "outputs": [
    {
     "name": "stdout",
     "output_type": "stream",
     "text": [
      "The autoreload extension is already loaded. To reload it, use:\n",
      "  %reload_ext autoreload\n"
     ]
    }
   ],
   "source": [
    "%load_ext autoreload\n",
    "%autoreload 1\n",
    "\n",
    "from pathlib import Path\n",
    "import pickle\n",
    "import sys\n",
    "sys.path.append(str(Path('../alignment/').resolve()))\n",
    "\n",
    "%aimport AlignUtils\n",
    "%aimport ExploreUtils\n",
    "\n",
    "import numpy as np\n",
    "from gensim.models.word2vec import Word2Vec\n",
    "import AlignUtils as AU\n",
    "import ExploreUtils as EU"
   ]
  },
  {
   "cell_type": "markdown",
   "metadata": {},
   "source": [
    "## Set up\n",
    "\n",
    "Begin by selecting which communities you want to compare."
   ]
  },
  {
   "cell_type": "code",
   "execution_count": 397,
   "metadata": {},
   "outputs": [],
   "source": [
    "a = 'politics'\n",
    "b = 'the_donald'\n",
    "method = 'cca'"
   ]
  },
  {
   "cell_type": "code",
   "execution_count": 398,
   "metadata": {},
   "outputs": [],
   "source": [
    "model_dir = Path(\"../../data/models/\")\n",
    "aligner_dir = Path(f\"../../data/aligners/{method}\")"
   ]
  },
  {
   "cell_type": "markdown",
   "metadata": {},
   "source": [
    "Next, load up the aligners for the communities"
   ]
  },
  {
   "cell_type": "code",
   "execution_count": 399,
   "metadata": {},
   "outputs": [
    {
     "name": "stderr",
     "output_type": "stream",
     "text": [
      "/home/jmilbauer/.conda/envs/torchenv/lib/python3.7/site-packages/sklearn/base.py:318: UserWarning: Trying to unpickle estimator CCA from version 0.23.2 when using version 0.22.1. This might lead to breaking code or invalid results. Use at your own risk.\n",
      "  UserWarning)\n"
     ]
    }
   ],
   "source": [
    "forward = pickle.load(open(aligner_dir / f\"{a}2{b}.pkl\", 'rb'))"
   ]
  },
  {
   "cell_type": "markdown",
   "metadata": {},
   "source": [
    "## Analysis"
   ]
  },
  {
   "cell_type": "markdown",
   "metadata": {},
   "source": [
    "Now, load up the relevant antonyms from wordnet to translate with the aligner."
   ]
  },
  {
   "cell_type": "code",
   "execution_count": 400,
   "metadata": {},
   "outputs": [
    {
     "name": "stderr",
     "output_type": "stream",
     "text": [
      "100%|██████████| 29991/29991 [00:00<00:00, 44660.95it/s]\n"
     ]
    }
   ],
   "source": [
    "vocabulary = set(forward.w2idA.keys())\n",
    "antonyms = EU.get_antonyms(vocabulary)\n",
    "sources = [x for x,y in antonyms]\n",
    "targets = [y for x,y in antonyms]\n",
    "guesses, simscores = forward.translate_words(sources)"
   ]
  },
  {
   "cell_type": "markdown",
   "metadata": {},
   "source": [
    "Find the guesses which are antonyms!"
   ]
  },
  {
   "cell_type": "code",
   "execution_count": 401,
   "metadata": {},
   "outputs": [],
   "source": [
    "antonyms = []\n",
    "for s, gs, t, scr in zip(sources, guesses, targets, simscores):\n",
    "    if t in gs:\n",
    "        antonyms.append((scr[0], s, t))"
   ]
  },
  {
   "cell_type": "markdown",
   "metadata": {},
   "source": [
    "Display them, ranked based on similarity."
   ]
  },
  {
   "cell_type": "code",
   "execution_count": 403,
   "metadata": {},
   "outputs": [
    {
     "data": {
      "text/plain": [
       "[(0.7861178930229651, 'ineligible', 'eligible'),\n",
       " (0.7653983478259125, 'decreasing', 'increasing'),\n",
       " (0.7444180993046833, 'inaccessible', 'accessible'),\n",
       " (0.7380304896875658, 'implausible', 'plausible'),\n",
       " (0.7304642804556579, 'deflation', 'inflation'),\n",
       " (0.714991498654754, 'decentralized', 'centralized'),\n",
       " (0.7134287800532301, 'pessimistic', 'optimistic'),\n",
       " (0.7122762966140525, 'import', 'export'),\n",
       " (0.7021870154640584, 'unintentionally', 'intentionally'),\n",
       " (0.6887659998303675, 'unprofitable', 'profitable'),\n",
       " (0.6851997116214015, 'masculine', 'feminine'),\n",
       " (0.6782152010925678, 'disincentive', 'incentive'),\n",
       " (0.6621097707142934, 'desegregation', 'segregation'),\n",
       " (0.6491762396332795, 'subjectively', 'objectively'),\n",
       " (0.6422880749736142, 'nonnative', 'native'),\n",
       " (0.6360124890787113, 'overstatement', 'understatement'),\n",
       " (0.626880914201769, 'imprecise', 'precise'),\n",
       " (0.6094395673070323, 'downwards', 'upward'),\n",
       " (0.5961650890802901, 'integrate', 'segregate'),\n",
       " (0.594396820467329, 'informally', 'formally'),\n",
       " (0.5849974615353635, 'concealing', 'revealing'),\n",
       " (0.5679968631717347, 'dissimilar', 'similar'),\n",
       " (0.5677709019618737, 'disbelieve', 'believe'),\n",
       " (0.5619888389199614, 'unpopularity', 'popularity'),\n",
       " (0.5595583601552268, 'privatization', 'nationalization'),\n",
       " (0.5593026664455947, 'deflate', 'inflate'),\n",
       " (0.5525473185296101, 'unpalatable', 'palatable'),\n",
       " (0.550846217521191, 'unfavorably', 'favorably'),\n",
       " (0.5466231962464859, 'unwillingly', 'willingly'),\n",
       " (0.5283351850519539, 'displeased', 'pleased'),\n",
       " (0.528302127442921, 'insufficiently', 'sufficiently'),\n",
       " (0.5159342358154576, 'unconvinced', 'convinced'),\n",
       " (0.42092647212764717, 'widest', 'narrow')]"
      ]
     },
     "execution_count": 403,
     "metadata": {},
     "output_type": "execute_result"
    }
   ],
   "source": [
    "sorted(antonyms, reverse=True)"
   ]
  },
  {
   "cell_type": "code",
   "execution_count": null,
   "metadata": {},
   "outputs": [],
   "source": []
  }
 ],
 "metadata": {
  "kernelspec": {
   "display_name": "Python (torch)",
   "language": "python",
   "name": "torchenv"
  },
  "language_info": {
   "codemirror_mode": {
    "name": "ipython",
    "version": 3
   },
   "file_extension": ".py",
   "mimetype": "text/x-python",
   "name": "python",
   "nbconvert_exporter": "python",
   "pygments_lexer": "ipython3",
   "version": "3.7.6"
  }
 },
 "nbformat": 4,
 "nbformat_minor": 4
}
