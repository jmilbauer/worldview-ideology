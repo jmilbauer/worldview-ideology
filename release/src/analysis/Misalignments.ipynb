{
 "cells": [
  {
   "cell_type": "code",
   "execution_count": 2,
   "metadata": {},
   "outputs": [],
   "source": [
    "from pathlib import Path\n",
    "import pickle\n",
    "import sys\n",
    "sys.path.append(str(Path('../alignment/').resolve()))\n",
    "\n",
    "import numpy as np\n",
    "from gensim.models.word2vec import Word2Vec\n",
    "import AlignUtils as AU\n",
    "import ExploreUtils as EU"
   ]
  },
  {
   "cell_type": "markdown",
   "metadata": {},
   "source": [
    "## Setup\n",
    "\n",
    "We begin by selecting the communities to compare, and then initializing the translation"
   ]
  },
  {
   "cell_type": "code",
   "execution_count": 3,
   "metadata": {},
   "outputs": [],
   "source": [
    "a = 'politics'\n",
    "b = 'the_donald'\n",
    "method = 'cca'"
   ]
  },
  {
   "cell_type": "code",
   "execution_count": 4,
   "metadata": {},
   "outputs": [],
   "source": [
    "model_dir = Path(\"../../data/models/\")\n",
    "aligner_dir = Path(f\"../../data/aligners/{method}\")"
   ]
  },
  {
   "cell_type": "code",
   "execution_count": 6,
   "metadata": {},
   "outputs": [],
   "source": [
    "forward = pickle.load(open(aligner_dir / f\"{a}2{b}.pkl\", 'rb'))\n",
    "backward = pickle.load(open(aligner_dir / f\"{b}2{a}.pkl\", 'rb'))"
   ]
  },
  {
   "cell_type": "markdown",
   "metadata": {},
   "source": [
    "## Translation\n",
    "\n",
    "Next, we perform a full translation for all of the shared words"
   ]
  },
  {
   "cell_type": "code",
   "execution_count": 10,
   "metadata": {},
   "outputs": [],
   "source": [
    "a_words = set(forward.w2idA.keys())\n",
    "b_words = set(forward.id2wB.values())\n",
    "shared = set.intersection(a_words, b_words)"
   ]
  },
  {
   "cell_type": "code",
   "execution_count": null,
   "metadata": {},
   "outputs": [],
   "source": [
    "translations = forward.translate_words(shared, k=1)"
   ]
  },
  {
   "cell_type": "code",
   "execution_count": null,
   "metadata": {},
   "outputs": [],
   "source": []
  }
 ],
 "metadata": {
  "kernelspec": {
   "display_name": "Python (torch)",
   "language": "python",
   "name": "torchenv"
  },
  "language_info": {
   "codemirror_mode": {
    "name": "ipython",
    "version": 3
   },
   "file_extension": ".py",
   "mimetype": "text/x-python",
   "name": "python",
   "nbconvert_exporter": "python",
   "pygments_lexer": "ipython3",
   "version": "3.7.6"
  }
 },
 "nbformat": 4,
 "nbformat_minor": 4
}
